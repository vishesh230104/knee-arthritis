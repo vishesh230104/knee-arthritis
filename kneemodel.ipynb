{
  "cells": [
    {
      "cell_type": "code",
      "execution_count": null,
      "metadata": {
        "id": "XrtpfTq3tvdt"
      },
      "outputs": [],
      "source": [
        "# Mount Google Drive to access dataset\n",
        "from google.colab import drive\n",
        "drive.mount('/content/drive')"
      ]
    },
    {
      "cell_type": "code",
      "execution_count": null,
      "metadata": {
        "id": "Tv41-k2uuaK1"
      },
      "outputs": [],
      "source": [
        "# Navigate to the dataset directory\n",
        "cd /content/drive/MyDrive/RESEARCH/DATASET/MedicalExpert-I"
      ]
    },
    {
      "cell_type": "code",
      "execution_count": null,
      "metadata": {
        "id": "7cGmZnHdvgrM"
      },
      "outputs": [],
      "source": [
        "# Import necessary libraries and check TensorFlow version\n",
        "import tensorflow\n",
        "print(tensorflow.__version__)"
      ]
    },
    {
      "cell_type": "code",
      "execution_count": null,
      "metadata": {
        "id": "zj7d12ZewO32"
      },
      "outputs": [],
      "source": [
        "# Load dataset and prepare labels\n",
        "import cv2,os\n",
        "data_path='/content/drive/MyDrive/RESEARCH/DATASET/MedicalExpert-I'\n",
        "categories=os.listdir(data_path)\n",
        "labels=[i for i in range(len(categories))]\n",
        "label_dict=dict(zip(categories,labels))\n",
        "print(label_dict)\n",
        "print(categories)\n",
        "print(labels)"
      ]
    },
    {
      "cell_type": "code",
      "execution_count": null,
      "metadata": {
        "id": "syAFPilKxANp"
      },
      "outputs": [],
      "source": [
        "# Preprocess images: resize, convert to grayscale, and normalize\n",
        "img_size=256\n",
        "data=[]\n",
        "label=[]\n",
        "\n",
        "for category in categories:\n",
        "  folder_path=os.path.join(data_path,category)\n",
        "  # Check if folder_path is actually a directory before proceeding\n",
        "  if os.path.isdir(folder_path):\n",
        "    img_names=os.listdir(folder_path)\n",
        "\n",
        "    for img_name in img_names:\n",
        "      img_path=os.path.join(folder_path,img_name)\n",
        "      img=cv2.imread(img_path)\n",
        "      try:\n",
        "          gray=cv2.cvtColor(img,cv2.COLOR_BGR2GRAY)\n",
        "          resized=cv2.resize(gray,(img_size,img_size))\n",
        "          data.append(resized)\n",
        "          label.append(label_dict[category])\n",
        "      except Exception as e:\n",
        "          print('Exception:',e)"
      ]
    },
    {
      "cell_type": "code",
      "execution_count": null,
      "metadata": {
        "id": "AhrMhKdVyBd9"
      },
      "outputs": [],
      "source": [
        "# Normalize image data and reshape for CNN input\n",
        "import numpy as np\n",
        "data=np.array(data)/255.0\n",
        "data=np.reshape(data,(data.shape[0],img_size,img_size,1))\n",
        "label=np.array(label)\n",
        "from tensorflow.keras.utils import to_categorical\n",
        "new_label=to_categorical(label)"
      ]
    },
    {
      "cell_type": "code",
      "execution_count": null,
      "metadata": {
        "id": "vnHbNWJU1LTO"
      },
      "outputs": [],
      "source": [
        "# Convert labels to categorical format\n",
        "new_label.shape"
      ]
    },
    {
      "cell_type": "markdown",
      "metadata": {
        "id": "y6unFOpN1WRx"
      },
      "source": [
        "CNN MODEL\n"
      ]
    },
    {
      "cell_type": "code",
      "execution_count": null,
      "metadata": {
        "id": "A-2K8N4s1c_U"
      },
      "outputs": [],
      "source": [
        "# Print the shape of data\n",
        "data.shape"
      ]
    },
    {
      "cell_type": "code",
      "execution_count": null,
      "metadata": {
        "id": "CPyCLBwx1n_j"
      },
      "outputs": [],
      "source": [
        "# Print the input shape for CNN model\n",
        "data.shape[1:]"
      ]
    },
    {
      "cell_type": "code",
      "execution_count": null,
      "metadata": {
        "id": "7lHh4dPE1uBX"
      },
      "outputs": [],
      "source": [
        "# Build a Convolutional Neural Network (CNN) model\n",
        "from keras.models import Sequential\n",
        "from keras.layers import Dense,Activation,Flatten,Dropout\n",
        "from keras.layers import Conv2D,MaxPooling2D\n",
        "from keras.callbacks import ModelCheckpoint\n",
        "\n",
        "model=Sequential()\n",
        "model.add(Conv2D(128,(3,3),input_shape=data.shape[1:]))\n",
        "model.add(Activation('relu'))\n",
        "model.add(MaxPooling2D(pool_size=(2,2)))\n",
        "\n",
        "model.add(Conv2D(64,(3,3)))\n",
        "model.add(Activation('relu'))\n",
        "model.add(MaxPooling2D(pool_size=(2,2)))\n",
        "\n",
        "model.add(Conv2D(32,(3,3)))\n",
        "model.add(Activation('relu'))\n",
        "model.add(MaxPooling2D(pool_size=(2,2)))\n",
        "\n",
        "model.add(Flatten())\n",
        "model.add(Dropout(0.2))\n",
        "model.add(Dense(128,activation='relu'))\n",
        "model.add(Dense(5,activation='softmax'))\n",
        "# Compile the CNN model\n",
        "\n",
        "model.compile(loss='categorical_crossentropy',optimizer='adam',metrics=['accuracy'])"
      ]
    },
    {
      "cell_type": "code",
      "execution_count": null,
      "metadata": {
        "id": "cbrv-6Nm268c"
      },
      "outputs": [],
      "source": [
        "# Print the summary of the model\n",
        "model.summary()"
      ]
    },
    {
      "cell_type": "markdown",
      "metadata": {
        "id": "JCznpxl43Iq_"
      },
      "source": [
        "SPLITTING DATA INTO TRAINING AND TESTING\n"
      ]
    },
    {
      "cell_type": "code",
      "execution_count": null,
      "metadata": {
        "id": "_jqgA1MX3O8m"
      },
      "outputs": [],
      "source": [
        "# Split data into training and testing sets\n",
        "from sklearn.model_selection import train_test_split\n",
        "x_train,x_test,y_train,y_test=train_test_split(data,new_label,test_size=0.1)"
      ]
    },
    {
      "cell_type": "code",
      "execution_count": null,
      "metadata": {
        "id": "osqbxLZx4nJx"
      },
      "outputs": [],
      "source": [
        "# Visualize some test data samples\n",
        "import matplotlib.pyplot as plt\n",
        "plt.figure(figsize=(10,10))\n",
        "for i in range(20):\n",
        "  plt.subplot(5,5,i+1)\n",
        "  plt.xticks([])\n",
        "  plt.yticks([])\n",
        "  plt.grid(False)\n",
        "  plt.imshow(np.squeeze(x_test[i]))\n",
        "  plt.xlabel(categories[np.argmax(y_test[i])])\n",
        "plt.show()"
      ]
    },
    {
      "cell_type": "code",
      "execution_count": null,
      "metadata": {
        "colab": {
          "background_save": true
        },
        "id": "IHyRLkjU6grR"
      },
      "outputs": [],
      "source": [
        "# Train the model and validate it\n",
        "history=model.fit(x_train,y_train,epochs=100,validation_split=0.2)"
      ]
    },
    {
      "cell_type": "code",
      "execution_count": null,
      "metadata": {
        "id": "9mTOcwC_8qMZ"
      },
      "outputs": [],
      "source": [
        "# Save the trained model\n",
        "model.save('medical_expert.h5')"
      ]
    },
    {
      "cell_type": "code",
      "execution_count": null,
      "metadata": {
        "id": "w7lRVWT281N7"
      },
      "outputs": [],
      "source": [
        "# Plot training and validation loss and accuracy\n",
        "from matplotlib import pyplot as plt"
      ]
    },
    {
      "cell_type": "code",
      "execution_count": null,
      "metadata": {
        "id": "WZ-OEVE281PZ"
      },
      "outputs": [],
      "source": [
        "N=100\n",
        "plt.style.use(\"ggplot\")\n",
        "plt.figure()\n",
        "plt.plot(np.arange(0,N),history.history[\"loss\"],label=\"train_loss\")\n",
        "plt.plot(np.arange(0,N),history.history[\"val_loss\"],label=\"val_loss\")\n",
        "plt.plot(np.arange(0,N),history.history[\"accuracy\"],label=\"train_acc\")\n",
        "plt.plot(np.arange(0,N),history.history[\"val_accuracy\"],label=\"val_acc\")\n",
        "plt.title(\"Training Loss and Accuracy\")\n",
        "plt.xlabel(\"Epoch #\")\n",
        "plt.ylabel(\"Loss/Accuracy\")\n",
        "plt.legend(loc=\"center right\")\n",
        "plt.savefig(\"CNN_Model\")"
      ]
    },
    {
      "cell_type": "code",
      "execution_count": null,
      "metadata": {
        "id": "O3RZfism81Qv"
      },
      "outputs": [],
      "source": [
        "# Evaluate the model on the test data\n",
        "val_loss,val_accuracy=model.evaluate(x_test,y_test,verbose=0)\n",
        "print(\"test loss:\",val_loss,'%')\n",
        "print(\"test accuracy:\",val_accuracy,'%')\n"
      ]
    },
    {
      "cell_type": "code",
      "execution_count": null,
      "metadata": {
        "id": "GKxF_kvPAUlE"
      },
      "outputs": [],
      "source": [
        "# Test the model on a single sample\n",
        "X=32\n",
        "\n",
        "img_size=256\n",
        "\n",
        "img_single=x_test[X]\n",
        "img_single=cv2.resize(img_single,(img_size,img_size))\n",
        "img_single=(np.expand_dims(img_single,0))\n",
        "img_single=img_single.reshape(img_single.shape[0],256,256,1)\n",
        "\n",
        "predictions_single=model.predict(img_single)\n",
        "print('A.I predits:',categories[np.argmax(predictions_single)])\n",
        "print(\"correct predictions for label\",categories[np.argmax(y_test[X])])\n",
        "plt.imshow(np.squeeze(img_single))\n",
        "plt.grid(False)\n",
        "plt.show()"
      ]
    },
    {
      "cell_type": "code",
      "execution_count": null,
      "metadata": {
        "id": "CGHbRJFuDAO4"
      },
      "outputs": [],
      "source": [
        "# Generate a confusion matrix to evaluate the model\n",
        "from sklearn.metrics import confusion_matrix\n",
        "from mlxtend.plotting import plot_confusion_matrix\n",
        "\n",
        "test_labels=np.argmax(y_test,axis=1)\n",
        "predictions=model.predict(x_test)\n",
        "predictions=np.argmax(predictions,axis=1)\n",
        "\n",
        "cm=confusion_matrix(test_labels,predictions)\n",
        "plt.figure()\n",
        "plot_confusion_matrix(cm,figsize=(12,8),hide_ticks=True,cmap=plt.cm.Blues)\n",
        "plt.xticks(range(5),['Normal','Doutful','Mild','Moderate','Severe'],fontsize=16)\n",
        "plt.yticks(range(5),['Normal','Doutful','Mild','Moderate','Severe'],fontsize=16)\n",
        "plt.show()"
      ]
    }
  ],
  "metadata": {
    "accelerator": "GPU",
    "colab": {
      "gpuType": "T4",
      "provenance": []
    },
    "kernelspec": {
      "display_name": "Python 3",
      "name": "python3"
    },
    "language_info": {
      "codemirror_mode": {
        "name": "ipython",
        "version": 3
      },
      "file_extension": ".py",
      "mimetype": "text/x-python",
      "name": "python",
      "nbconvert_exporter": "python",
      "pygments_lexer": "ipython3",
      "version": "3.11.9"
    }
  },
  "nbformat": 4,
  "nbformat_minor": 0
}